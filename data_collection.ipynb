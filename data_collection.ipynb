{
 "cells": [
  {
   "cell_type": "markdown",
   "metadata": {},
   "source": [
    "## Basic Data collection for children's authors and books"
   ]
  },
  {
   "cell_type": "code",
   "execution_count": 1,
   "metadata": {},
   "outputs": [],
   "source": [
    "from openai import OpenAI\n",
    "import os\n",
    "client = OpenAI()"
   ]
  },
  {
   "cell_type": "code",
   "execution_count": 3,
   "metadata": {},
   "outputs": [],
   "source": [
    "import json\n",
    "\n",
    "\n",
    "def getGPTResponse(question):\n",
    "\n",
    "  response = client.chat.completions.create(\n",
    "    model=\"gpt-3.5-turbo-0125\",\n",
    "    response_format={ \"type\": \"json_object\" },\n",
    "    messages=[\n",
    "      {\"role\": \"system\", \"content\": \"You are a helpful assistant designed to output JSON.\"},\n",
    "      {\"role\": \"user\", \"content\": question}\n",
    "    ]\n",
    "  )\n",
    "  return response.choices[0].message.content\n",
    "\n",
    "\n",
    "\n"
   ]
  },
  {
   "cell_type": "markdown",
   "metadata": {},
   "source": [
    "### Generate a list of most popular Children's book authors\n",
    "#### Utilize GPT3.5-Turbo's json reply format to get a list"
   ]
  },
  {
   "cell_type": "code",
   "execution_count": 12,
   "metadata": {},
   "outputs": [],
   "source": [
    "question  = f\"Suggest exactly 100 most famous children's authors. The response should have the key as 'authors_list'\"\n",
    "\n",
    "authors_list_json = getGPTResponse(question)\n",
    "authors_list = json.loads(authors_list_json)\n",
    "print(authors_list['authors_list'])\n"
   ]
  },
  {
   "cell_type": "markdown",
   "metadata": {},
   "source": [
    "### Collect famous books by each author\n",
    "#### For each author another API call is made to get the following data:\n",
    "* 10 titles\n",
    "* Genre\n",
    "* Target age group\n",
    "* detailed summary \n"
   ]
  },
  {
   "cell_type": "code",
   "execution_count": 33,
   "metadata": {},
   "outputs": [
    {
     "name": "stdout",
     "output_type": "stream",
     "text": [
      "Current Author is Dr. Seuss\n",
      "Current Author is J.K. Rowling\n",
      "Current Author is Roald Dahl\n",
      "Current Author is Enid Blyton\n",
      "Current Author is Shel Silverstein\n",
      "Current Author is Beatrix Potter\n",
      "Current Author is C.S. Lewis\n",
      "Current Author is Maurice Sendak\n",
      "Current Author is Eric Carle\n",
      "Current Author is Margaret Wise Brown\n",
      "Current Author is Lewis Carroll\n",
      "Current Author is Laura Ingalls Wilder\n",
      "Current Author is Hans Christian Andersen\n",
      "Current Author is E.B. White\n",
      "Current Author is A.A. Milne\n",
      "Current Author is Chris Van Allsburg\n",
      "Current Author is Beverly Cleary\n",
      "Current Author is R.L. Stine\n",
      "Current Author is Kevin Henkes\n",
      "Current Author is Judith Kerr\n",
      "Current Author is Jeff Kinney\n",
      "Current Author is Mercer Mayer\n",
      "Current Author is Dav Pilkey\n",
      "Current Author is Jon Klassen\n",
      "Current Author is Norton Juster\n",
      "Current Author is P.D. Eastman\n",
      "Current Author is Jan Brett\n",
      "Current Author is Lemony Snicket\n",
      "Current Author is Munro Leaf\n",
      "Current Author is Kate DiCamillo\n",
      "Current Author is Dick King-Smith\n",
      "Current Author is Jerry Spinelli\n",
      "Current Author is Ezra Jack Keats\n",
      "Current Author is Brian Jacques\n",
      "Current Author is Francine Pascal\n",
      "Current Author is Taro Gomi\n",
      "Current Author is Mo Willems\n",
      "Current Author is Linda Sue Park\n",
      "Current Author is Ruth Stiles Gannett\n",
      "Current Author is Madeleine L'Engle\n",
      "Current Author is Margaret Mahy\n",
      "Current Author is L.M. Montgomery\n",
      "Current Author is Diana Wynne Jones\n",
      "Current Author is Nancy Yi Fan\n",
      "Current Author is Albert Uderzo\n",
      "Current Author is Anna Sewell\n",
      "Current Author is Helen Beatrix Potter\n",
      "Current Author is Quentin Blake\n",
      "Current Author is Paul Jennings\n",
      "Current Author is Joan Aiken\n",
      "Current Author is Arthur Ransome\n",
      "Current Author is Lyman Frank Baum\n",
      "Current Author is E. Nesbit\n",
      "Current Author is William Steig\n",
      "Current Author is Sharon Creech\n",
      "Current Author is Jill Tomlinson\n",
      "Current Author is Ann M. Martin\n",
      "Current Author is Phyllis Reynolds Naylor\n",
      "Current Author is Ruth Chew\n",
      "Current Author is Stacia Deutsch\n",
      "Current Author is Marc Brown\n",
      "Current Author is David Almond\n",
      "Current Author is Lorna Landvik\n",
      "Current Author is Jacqueline Wilson\n",
      "Current Author is Jon Scieszka\n",
      "Current Author is Victoria Kann\n",
      "Current Author is Tomie dePaola\n",
      "Current Author is Lois Lowry\n",
      "Current Author is Neil Gaiman\n",
      "Current Author is Tom Clancy\n",
      "Current Author is Michael Morpurgo\n",
      "Current Author is Sir Terry Pratchett\n",
      "Current Author is Anne Fine\n",
      "Current Author is Michael Ende\n",
      "Current Author is Edward Eager\n",
      "Current Author is Louis Sachar\n",
      "Current Author is Mary Pope Osborne\n",
      "Current Author is Kate Dicamillo\n",
      "Current Author is Gary Paulsen\n",
      "Current Author is Lynne Truss\n",
      "Current Author is Ian Falconer\n",
      "Current Author is Stephenie Meyer\n",
      "Current Author is Elizabeth George Speare\n",
      "Current Author is Russell Freedman\n",
      "Current Author is Avi\n",
      "Current Author is Scott O'Dell\n",
      "Current Author is Katherine Paterson\n",
      "Current Author is Gordon Korman\n",
      "Current Author is Virginia Euwer Wolff\n",
      "Current Author is Garth Nix\n",
      "Current Author is Wendy Mass\n",
      "Current Author is S.E. Hinton\n",
      "Current Author is Cornelia Funke\n",
      "Current Author is Gennifer Choldenko\n",
      "Current Author is Shelley Hrdlitschka\n",
      "Current Author is Karen Hesse\n",
      "Current Author is Daniel Handler\n",
      "Current Author is Linda Sue Park\n"
     ]
    }
   ],
   "source": [
    "combined_author_book_data = {}\n",
    "for author in authors_list['authors_list']:\n",
    "    print(f\"Current Author is {author}\")\n",
    "    book_data_generation_query = f\"Suggest 10 titles by {author} with their genre, target age group and a detailed summary for each book.\"\n",
    "    author_book_data = json.loads(getGPTResponse(book_data_generation_query))\n",
    "    combined_author_book_data[author] = author_book_data\n",
    "    # print(author_book_data)\n",
    "    # break\n",
    "    "
   ]
  },
  {
   "cell_type": "markdown",
   "metadata": {},
   "source": [
    "### Save Author/book metadata to JSON"
   ]
  },
  {
   "cell_type": "code",
   "execution_count": 36,
   "metadata": {},
   "outputs": [],
   "source": [
    "# Store the JSON data in a file\n",
    "# json_output = json.loads(response.choices[0].message.content)\n",
    "with open(\"author_book_data.json\", \"w\") as file:\n",
    "    json.dump(combined_author_book_data, file)"
   ]
  },
  {
   "cell_type": "code",
   "execution_count": 37,
   "metadata": {},
   "outputs": [],
   "source": [
    "with open(\"author_book_data.json\", \"r\") as file:\n",
    "    data = json.load(file)"
   ]
  },
  {
   "cell_type": "code",
   "execution_count": 41,
   "metadata": {},
   "outputs": [
    {
     "data": {
      "text/plain": [
       "dict_keys(['Dr. Seuss', 'J.K. Rowling', 'Roald Dahl', 'Enid Blyton', 'Shel Silverstein', 'Beatrix Potter', 'C.S. Lewis', 'Maurice Sendak', 'Eric Carle', 'Margaret Wise Brown', 'Lewis Carroll', 'Laura Ingalls Wilder', 'Hans Christian Andersen', 'E.B. White', 'A.A. Milne', 'Chris Van Allsburg', 'Beverly Cleary', 'R.L. Stine', 'Kevin Henkes', 'Judith Kerr', 'Jeff Kinney', 'Mercer Mayer', 'Dav Pilkey', 'Jon Klassen', 'Norton Juster', 'P.D. Eastman', 'Jan Brett', 'Lemony Snicket', 'Munro Leaf', 'Kate DiCamillo', 'Dick King-Smith', 'Jerry Spinelli', 'Ezra Jack Keats', 'Brian Jacques', 'Francine Pascal', 'Taro Gomi', 'Mo Willems', 'Linda Sue Park', 'Ruth Stiles Gannett', \"Madeleine L'Engle\", 'Margaret Mahy', 'L.M. Montgomery', 'Diana Wynne Jones', 'Nancy Yi Fan', 'Albert Uderzo', 'Anna Sewell', 'Helen Beatrix Potter', 'Quentin Blake', 'Paul Jennings', 'Joan Aiken', 'Arthur Ransome', 'Lyman Frank Baum', 'E. Nesbit', 'William Steig', 'Sharon Creech', 'Jill Tomlinson', 'Ann M. Martin', 'Phyllis Reynolds Naylor', 'Ruth Chew', 'Stacia Deutsch', 'Marc Brown', 'David Almond', 'Lorna Landvik', 'Jacqueline Wilson', 'Jon Scieszka', 'Victoria Kann', 'Tomie dePaola', 'Lois Lowry', 'Neil Gaiman', 'Tom Clancy', 'Michael Morpurgo', 'Sir Terry Pratchett', 'Anne Fine', 'Michael Ende', 'Edward Eager', 'Louis Sachar', 'Mary Pope Osborne', 'Kate Dicamillo', 'Gary Paulsen', 'Lynne Truss', 'Ian Falconer', 'Stephenie Meyer', 'Elizabeth George Speare', 'Russell Freedman', 'Avi', \"Scott O'Dell\", 'Katherine Paterson', 'Gordon Korman', 'Virginia Euwer Wolff', 'Garth Nix', 'Wendy Mass', 'S.E. Hinton', 'Cornelia Funke', 'Gennifer Choldenko', 'Shelley Hrdlitschka', 'Karen Hesse', 'Daniel Handler'])"
      ]
     },
     "execution_count": 41,
     "metadata": {},
     "output_type": "execute_result"
    }
   ],
   "source": [
    "data.keys()"
   ]
  },
  {
   "cell_type": "code",
   "execution_count": null,
   "metadata": {},
   "outputs": [],
   "source": []
  }
 ],
 "metadata": {
  "kernelspec": {
   "display_name": "base",
   "language": "python",
   "name": "python3"
  },
  "language_info": {
   "codemirror_mode": {
    "name": "ipython",
    "version": 3
   },
   "file_extension": ".py",
   "mimetype": "text/x-python",
   "name": "python",
   "nbconvert_exporter": "python",
   "pygments_lexer": "ipython3",
   "version": "3.9.13"
  }
 },
 "nbformat": 4,
 "nbformat_minor": 2
}
